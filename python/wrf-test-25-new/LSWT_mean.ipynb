{
 "cells": [
  {
   "cell_type": "code",
   "execution_count": 3,
   "metadata": {},
   "outputs": [],
   "source": [
    "import wrf as w\n",
    "import numpy as np\n",
    "import xarray as xr\n",
    "import pandas as pd \n",
    "import matplotlib.pyplot as plt \n",
    "import cartopy.crs as ccrs\n",
    "import cmaps\n",
    "import os \n",
    "import salem \n",
    "from zIO import load_modis, load_t\n",
    "from zProcess import load_NamCo_shp, mask_lake\n",
    "from zMap import set_grid, add_NamCo\n",
    "import warnings\n",
    "warnings.filterwarnings(\"ignore\")\n",
    "\n",
    "if __name__ == '__main__':\n",
    "    data_dir = '/home/zzhzhao/Model/wrfout'\n",
    "    testname_list = [\n",
    "        'modis',\n",
    "        'test-25-3',\n",
    "        'test-25-NL',\n",
    "        'test-25-NM',\n",
    "        ]\n",
    "    N_test = len(testname_list)\n",
    "\n",
    "    date_start = '2013-08-23'\n",
    "    date_end = '2013-09-01'\n",
    "\n",
    "#     day_or_night = 'Day'\n",
    "    day_or_night = 'Night'\n",
    "    tsk_list = dict()\n",
    "    tsk_NamCo_daily_list = dict()\n",
    "    for testname in testname_list:\n",
    "        if testname == 'modis':\n",
    "            file_path = f\"/home/Public_Data/MODIS/MOD11A1/MOD11A1_NamCo_{date_start[:4]}.nc\"\n",
    "            tsk_list[testname] = load_modis(file_path, date_start, date_end, day_or_night)\n",
    "            tsk_NamCo_daily_list[testname] = tsk_list[testname]\n",
    "        else:\n",
    "            data_path = os.path.join(data_dir, testname)\n",
    "            domain = 1 \n",
    "            tsk, lats, lons, time = load_t(data_path, domain, 'TSK')\n",
    "            tsk = xr.where(tsk>0, tsk, np.nan)\n",
    "            tsk_list[testname] = tsk\n",
    "\n",
    "            mask = mask_lake(data_path, load_NamCo_shp(), testname, domain)\n",
    "            tsk_NamCo = tsk.where(mask) # 切出NamCo范围\n",
    "            tsk_NamCo_mean = tsk_NamCo.mean(dim=['west_east','south_north'])\n",
    "            # tsk_NamCo_mean = tsk_NamCo.isel(west_east=74, south_north=39)\n",
    "            \n",
    "\n",
    "            ### 取3 UTC和6 UTC的平均\n",
    "            if day_or_night == 'Day':\n",
    "                hour_list = [3, 6]\n",
    "            else:\n",
    "                hour_list = [15, 18]\n",
    "            tsk_NamCo_daily = tsk_NamCo_mean.sel(Time=tsk_NamCo_mean.Time.dt.hour.isin(hour_list)).resample(Time='D').mean()\n",
    "            tsk_NamCo_daily_list[testname] = tsk_NamCo_daily\n",
    "\n"
   ]
  },
  {
   "cell_type": "code",
   "execution_count": 4,
   "metadata": {},
   "outputs": [
    {
     "data": {
      "image/png": "[encoded data removed]",
      "text/plain": [
       "<Figure size 600x400 with 1 Axes>"
      ]
     },
     "metadata": {
      "needs_background": "light"
     },
     "output_type": "display_data"
    }
   ],
   "source": [
    "    labels = [\n",
    "        'Modis',\n",
    "        'CTL',\n",
    "        'NL', \n",
    "        'NM', \n",
    "        ]\n",
    "    markers = list('P^.sxD+*p12')\n",
    "    fig, ax = plt.subplots(dpi=100)\n",
    "    for i, testname in enumerate(testname_list):\n",
    "        var = tsk_NamCo_daily_list[testname]\n",
    "\n",
    "        var.plot.line(lw=0, marker=markers[i], mfc='none', label=labels[i], ax=ax)\n",
    "        ax.legend(loc=2, bbox_to_anchor=(1.0,1.0), borderaxespad=0, frameon=False)\n",
    "        ax.set_title(day_or_night, loc='left')\n",
    "        import matplotlib.dates as mdate  \n",
    "        ax.xaxis.set_major_formatter(mdate.DateFormatter('%m-%d'))\n",
    "\n",
    "    fig.savefig('fig/lwst_alltest.jpg', dpi=300, bbox_inches='tight', pad_inches=0.1)\n",
    "\n",
    "    "
   ]
  }
 ],
 "metadata": {
  "kernelspec": {
   "display_name": "Python 3.8.3 64-bit ('base': conda)",
   "language": "python",
   "name": "python38364bitbaseconda11ba864fe2704f90be13b4a2a65a2d0a"
  },
  "language_info": {
   "codemirror_mode": {
    "name": "ipython",
    "version": 3
   },
   "file_extension": ".py",
   "mimetype": "text/x-python",
   "name": "python",
   "nbconvert_exporter": "python",
   "pygments_lexer": "ipython3",
   "version": "3.8.3"
  }
 },
 "nbformat": 4,
 "nbformat_minor": 4
}
